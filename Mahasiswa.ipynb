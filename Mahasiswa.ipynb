{
  "nbformat": 4,
  "nbformat_minor": 0,
  "metadata": {
    "colab": {
      "provenance": [],
      "authorship_tag": "ABX9TyNsZiO7Fj9pj5L3Tqz+1YZc",
      "include_colab_link": true
    },
    "kernelspec": {
      "name": "python3",
      "display_name": "Python 3"
    },
    "language_info": {
      "name": "python"
    }
  },
  "cells": [
    {
      "cell_type": "markdown",
      "metadata": {
        "id": "view-in-github",
        "colab_type": "text"
      },
      "source": [
        "<a href=\"https://colab.research.google.com/github/fians-version/Class-Object-/blob/main/Mahasiswa.ipynb\" target=\"_parent\"><img src=\"https://colab.research.google.com/assets/colab-badge.svg\" alt=\"Open In Colab\"/></a>"
      ]
    },
    {
      "cell_type": "markdown",
      "source": [
        "Mahasiswa.py"
      ],
      "metadata": {
        "id": "eNpf6a2A2nH3"
      }
    },
    {
      "cell_type": "code",
      "execution_count": null,
      "metadata": {
        "id": "LDUnl-XP2mBr"
      },
      "outputs": [],
      "source": [
        "class Mahasiswa:\n",
        "    def __init__(self, nama, nim):\n",
        "        self.nama = nama\n",
        "        self.nim = nim\n",
        "\n",
        "    def cetak_krs(self):\n",
        "        print(f\"KRS untuk Mahasiswa: {self.nama}, NIM: {self.nim}\")\n",
        "\n",
        "# Membuat objek\n",
        "mhs = Mahasiswa(\"Budi\", \"123456\")\n",
        "mhs.cetak_krs()"
      ]
    }
  ]
}