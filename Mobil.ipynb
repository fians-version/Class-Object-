{
  "nbformat": 4,
  "nbformat_minor": 0,
  "metadata": {
    "colab": {
      "provenance": [],
      "authorship_tag": "ABX9TyNNBq3YJZxLkQEV1fRzlB5h",
      "include_colab_link": true
    },
    "kernelspec": {
      "name": "python3",
      "display_name": "Python 3"
    },
    "language_info": {
      "name": "python"
    }
  },
  "cells": [
    {
      "cell_type": "markdown",
      "metadata": {
        "id": "view-in-github",
        "colab_type": "text"
      },
      "source": [
        "<a href=\"https://colab.research.google.com/github/fians-version/Class-Object-/blob/main/Mobil.ipynb\" target=\"_parent\"><img src=\"https://colab.research.google.com/assets/colab-badge.svg\" alt=\"Open In Colab\"/></a>"
      ]
    },
    {
      "cell_type": "markdown",
      "source": [
        "Mobil.py"
      ],
      "metadata": {
        "id": "VrmcTWhN35bJ"
      }
    },
    {
      "cell_type": "code",
      "execution_count": null,
      "metadata": {
        "collapsed": true,
        "id": "QGfWxt0v3thn"
      },
      "outputs": [],
      "source": [
        "class Mobil:\n",
        "    def __init__(self, merek, model):\n",
        "        self.merek = merek\n",
        "        self.model = model\n",
        "\n",
        "    def info_mobil(self):\n",
        "        print(f\"Mobil: {self.merek} {self.model}\")\n",
        "\n",
        "# Membuat objek\n",
        "mobil_saya = Mobil(\"Toyota\", \"Avanza\")\n",
        "mobil_saya.info_mobil()"
      ]
    },
    {
      "cell_type": "markdown",
      "source": [],
      "metadata": {
        "id": "bTr0gJkv3vpZ"
      }
    }
  ]
}