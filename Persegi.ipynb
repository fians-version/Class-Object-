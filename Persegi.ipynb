{
  "nbformat": 4,
  "nbformat_minor": 0,
  "metadata": {
    "colab": {
      "provenance": [],
      "authorship_tag": "ABX9TyPng17LBobwxB4mIFLUTNGS",
      "include_colab_link": true
    },
    "kernelspec": {
      "name": "python3",
      "display_name": "Python 3"
    },
    "language_info": {
      "name": "python"
    }
  },
  "cells": [
    {
      "cell_type": "markdown",
      "metadata": {
        "id": "view-in-github",
        "colab_type": "text"
      },
      "source": [
        "<a href=\"https://colab.research.google.com/github/fians-version/Class-Object-/blob/main/Persegi.ipynb\" target=\"_parent\"><img src=\"https://colab.research.google.com/assets/colab-badge.svg\" alt=\"Open In Colab\"/></a>"
      ]
    },
    {
      "cell_type": "markdown",
      "source": [
        "Persegi.py"
      ],
      "metadata": {
        "id": "8hFx4S2I4fFa"
      }
    },
    {
      "cell_type": "code",
      "execution_count": null,
      "metadata": {
        "id": "Rg9W89XK4dRd"
      },
      "outputs": [],
      "source": [
        "class Persegi:\n",
        "    def __init__(self, sisi):\n",
        "        self.sisi = sisi\n",
        "\n",
        "    def hitung_luas(self):\n",
        "        luas = self.sisi ** 2\n",
        "        print(f\"Luas Persegi dengan sisi {self.sisi} adalah: {luas}\")\n",
        "\n",
        "# Membuat objek\n",
        "persegi_saya = Persegi(4)\n",
        "persegi_saya.hitung_luas()"
      ]
    }
  ]
}