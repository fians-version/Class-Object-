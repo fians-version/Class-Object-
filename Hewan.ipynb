{
  "nbformat": 4,
  "nbformat_minor": 0,
  "metadata": {
    "colab": {
      "provenance": [],
      "authorship_tag": "ABX9TyOt6WTGoECvwiuzAUgo7Fyy",
      "include_colab_link": true
    },
    "kernelspec": {
      "name": "python3",
      "display_name": "Python 3"
    },
    "language_info": {
      "name": "python"
    }
  },
  "cells": [
    {
      "cell_type": "markdown",
      "metadata": {
        "id": "view-in-github",
        "colab_type": "text"
      },
      "source": [
        "<a href=\"https://colab.research.google.com/github/fians-version/Class-Object-/blob/main/Hewan.ipynb\" target=\"_parent\"><img src=\"https://colab.research.google.com/assets/colab-badge.svg\" alt=\"Open In Colab\"/></a>"
      ]
    },
    {
      "cell_type": "markdown",
      "source": [
        "Hewan.py"
      ],
      "metadata": {
        "id": "uPBYFGo74NyR"
      }
    },
    {
      "cell_type": "code",
      "execution_count": null,
      "metadata": {
        "id": "nMQMoCmr4FQz"
      },
      "outputs": [],
      "source": [
        "class Hewan:\n",
        "    def __init__(self, nama, jenis):\n",
        "        self.nama = nama\n",
        "        self.jenis = jenis\n",
        "\n",
        "    def suara_hewan(self):\n",
        "        print(f\"{self.nama} adalah {self.jenis} dan bersuara: 'Grrr!'\")\n",
        "\n",
        "# Membuat objek\n",
        "kucing = Hewan(\"Kitty\", \"Kucing\")\n",
        "kucing.suara_hewan()"
      ]
    }
  ]
}