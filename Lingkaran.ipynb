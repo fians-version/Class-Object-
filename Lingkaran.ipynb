{
  "nbformat": 4,
  "nbformat_minor": 0,
  "metadata": {
    "colab": {
      "provenance": [],
      "authorship_tag": "ABX9TyP2MxqoWticJU9pXx5EE9ty",
      "include_colab_link": true
    },
    "kernelspec": {
      "name": "python3",
      "display_name": "Python 3"
    },
    "language_info": {
      "name": "python"
    }
  },
  "cells": [
    {
      "cell_type": "markdown",
      "metadata": {
        "id": "view-in-github",
        "colab_type": "text"
      },
      "source": [
        "<a href=\"https://colab.research.google.com/github/fians-version/Class-Object-/blob/main/Lingkaran.ipynb\" target=\"_parent\"><img src=\"https://colab.research.google.com/assets/colab-badge.svg\" alt=\"Open In Colab\"/></a>"
      ]
    },
    {
      "cell_type": "markdown",
      "source": [
        "Lingkaran.py"
      ],
      "metadata": {
        "id": "WRnlg8Cs3LvJ"
      }
    },
    {
      "cell_type": "code",
      "execution_count": 1,
      "metadata": {
        "colab": {
          "base_uri": "https://localhost:8080/"
        },
        "id": "AEW98djA3LAQ",
        "outputId": "6d7326a6-2e31-4727-9dc2-aca227fdd852"
      },
      "outputs": [
        {
          "output_type": "stream",
          "name": "stdout",
          "text": [
            "Luas Lingkaran: 78.54, Keliling Lingkaran: 31.42\n"
          ]
        }
      ],
      "source": [
        "import math\n",
        "\n",
        "class Lingkaran:\n",
        "    def __init__(self, jari_jari):\n",
        "        self.jari_jari = jari_jari\n",
        "\n",
        "    def buat_lingkaran(self):\n",
        "        luas = math.pi * (self.jari_jari ** 2)\n",
        "        keliling = 2 * math.pi * self.jari_jari\n",
        "        print(f\"Luas Lingkaran: {luas:.2f}, Keliling Lingkaran: {keliling:.2f}\")\n",
        "\n",
        "# Membuat objek\n",
        "bit = Lingkaran(5)\n",
        "bit.buat_lingkaran()"
      ]
    }
  ]
}